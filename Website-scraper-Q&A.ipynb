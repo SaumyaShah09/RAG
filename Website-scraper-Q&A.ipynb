{
 "cells": [
  {
   "metadata": {},
   "cell_type": "markdown",
   "source": [
    "Context Re-Ranking\n",
    "Scrape the Techify Website and create a Vector Store for it. Then create an agent in AGNO that can be used as a Q&A bot for this website data."
   ],
   "id": "1873906a6fa700ea"
  },
  {
   "metadata": {},
   "cell_type": "markdown",
   "source": "Web Scraper for Techify Website",
   "id": "dbd1540dba4e8f83"
  },
  {
   "metadata": {
    "ExecuteTime": {
     "end_time": "2025-06-05T11:32:04.568999Z",
     "start_time": "2025-06-05T11:31:57.942929Z"
    }
   },
   "cell_type": "code",
   "source": [
    "import os\n",
    "import requests\n",
    "from bs4 import BeautifulSoup\n",
    "from dotenv import load_dotenv\n",
    "\n",
    "from langchain.embeddings import HuggingFaceEmbeddings\n",
    "from langchain.vectorstores import FAISS\n",
    "from langchain.text_splitter import RecursiveCharacterTextSplitter\n",
    "from langchain.docstore.document import Document\n",
    "\n",
    "from groq import Groq\n",
    "\n",
    "load_dotenv()\n",
    "groq_api_key = os.getenv(\"GROQ_API_KEY\")\n",
    "client = Groq(api_key=groq_api_key)\n",
    "\n",
    "embedding_model = HuggingFaceEmbeddings(model_name=\"all-MiniLM-L6-v2\")\n",
    "faiss_index = None\n",
    "\n",
    "def scrape_website(base_url):\n",
    "    response = requests.get(base_url)\n",
    "    soup = BeautifulSoup(response.text, \"lxml\")\n",
    "    paragraphs = soup.find_all(\"p\")\n",
    "    content = \"\\n\".join(p.get_text() for p in paragraphs)\n",
    "    return content"
   ],
   "id": "initial_id",
   "outputs": [],
   "execution_count": 25
  },
  {
   "metadata": {},
   "cell_type": "markdown",
   "source": "Splitting and Embedding the Content into a Vector Store",
   "id": "c15fa1af04545711"
  },
  {
   "metadata": {
    "ExecuteTime": {
     "end_time": "2025-06-05T11:32:04.608824Z",
     "start_time": "2025-06-05T11:32:04.600865Z"
    }
   },
   "cell_type": "code",
   "source": [
    "def split_texts(text,chunk_size=500,chunk_overlap=50):\n",
    "    splitters = RecursiveCharacterTextSplitter(\n",
    "        chunk_size=chunk_size,\n",
    "        chunk_overlap=chunk_overlap\n",
    "    )\n",
    "    return splitters.split_text(text)\n",
    "\n",
    "def embed_and_store(text_chunks):\n",
    "    global faiss_index\n",
    "    faiss_index = FAISS.from_texts(text_chunks, embedding_model)\n",
    "    print(f\"Stored {len(text_chunks)} chunks into FAISS index\")"
   ],
   "id": "a5c22f84d5bc7c7d",
   "outputs": [],
   "execution_count": 26
  },
  {
   "metadata": {
    "ExecuteTime": {
     "end_time": "2025-06-05T11:32:04.647297Z",
     "start_time": "2025-06-05T11:32:04.639150Z"
    }
   },
   "cell_type": "code",
   "source": [
    "def retrieve_context(query, k=4):\n",
    "    results = faiss_index.similarity_search(query, k=k)\n",
    "    return \"\\n\".join(doc.page_content for doc in results)"
   ],
   "id": "f4b3ed3807bf3264",
   "outputs": [],
   "execution_count": 27
  },
  {
   "metadata": {
    "ExecuteTime": {
     "end_time": "2025-06-05T11:32:04.677431Z",
     "start_time": "2025-06-05T11:32:04.669316Z"
    }
   },
   "cell_type": "code",
   "source": [
    "def query_groq_llama3(question, context):\n",
    "    response = client.chat.completions.create(\n",
    "        model=\"llama3-70b-8192\",\n",
    "        temperature=0.3,\n",
    "        messages=[\n",
    "            {\"role\": \"system\", \"content\": \"You are a helpful assistant answering questions based on provided context.\"},\n",
    "            {\"role\": \"user\", \"content\": f\"Context:\\n{context}\\n\\nQuestion: {question}\"}\n",
    "        ]\n",
    "    )\n",
    "    return response.choices[0].message.content\n"
   ],
   "id": "4c2547e6ce679937",
   "outputs": [],
   "execution_count": 28
  },
  {
   "metadata": {
    "ExecuteTime": {
     "end_time": "2025-06-05T11:32:04.705413Z",
     "start_time": "2025-06-05T11:32:04.697185Z"
    }
   },
   "cell_type": "code",
   "source": [
    "class TechifyAgent:\n",
    "    def load_data(self, url: str):\n",
    "        content = scrape_website(url)\n",
    "        chunks = split_texts(content)\n",
    "        embed_and_store(chunks)\n",
    "        return f\"Loaded and embedded data from {url}\"\n",
    "\n",
    "    def ask(self, question: str):\n",
    "        print(f\"Answering: {question}\")\n",
    "        context = retrieve_context(question)\n",
    "        return query_groq_llama3(question, context)"
   ],
   "id": "896cf59ebbbe8a67",
   "outputs": [],
   "execution_count": 29
  },
  {
   "metadata": {
    "ExecuteTime": {
     "end_time": "2025-06-05T11:32:19.789175Z",
     "start_time": "2025-06-05T11:32:04.721265Z"
    }
   },
   "cell_type": "code",
   "source": [
    "if __name__ == \"__main__\":\n",
    "    agent = TechifyAgent()\n",
    "    techify_url = \"https://techifysolutions.com/\"\n",
    "\n",
    "    print(\"Initializing Techify Agent...\")\n",
    "    print(agent.load_data(techify_url))\n",
    "\n",
    "    while True:\n",
    "        q = input(\"\\nAsk a question about Techify (or type 'exit'): \")\n",
    "        if q.lower() == \"exit\":\n",
    "            break\n",
    "        ans = agent.ask(q)\n",
    "        print(\"\\nAnswer:\")\n",
    "        print(ans)"
   ],
   "id": "9c63019c7abc8073",
   "outputs": [
    {
     "name": "stdout",
     "output_type": "stream",
     "text": [
      "Initializing Techify Agent...\n",
      "Stored 18 chunks into FAISS index\n",
      "Loaded and embedded data from https://techifysolutions.com/\n",
      "Answering: What do they offer?\n",
      "\n",
      "Answer:\n",
      "Based on the provided context, Techify offers customized digital solutions, including:\n",
      "\n",
      "1. Building special digital solutions to grow, manage, and channelize businesses.\n",
      "2. Developing tailor-made solutions that meet specific requirements.\n",
      "3. Providing customized and scalable financial solutions for secure and faster processes.\n",
      "\n",
      "They also provide services related to Cloud, LaunchPad, Bizio, Walkins CRM, and AI CardVault.\n"
     ]
    }
   ],
   "execution_count": 30
  }
 ],
 "metadata": {
  "kernelspec": {
   "display_name": "Python 3",
   "language": "python",
   "name": "python3"
  },
  "language_info": {
   "codemirror_mode": {
    "name": "ipython",
    "version": 2
   },
   "file_extension": ".py",
   "mimetype": "text/x-python",
   "name": "python",
   "nbconvert_exporter": "python",
   "pygments_lexer": "ipython2",
   "version": "2.7.6"
  }
 },
 "nbformat": 4,
 "nbformat_minor": 5
}
